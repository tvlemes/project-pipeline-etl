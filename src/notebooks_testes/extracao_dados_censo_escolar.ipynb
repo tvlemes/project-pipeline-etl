{
 "cells": [
  {
   "cell_type": "markdown",
   "metadata": {},
   "source": [
    "# Exploração dos Dados\n",
    "\n",
    "Link: https://github.com/Ignorancia-Zero/curso-ciencia-dados-treino/blob/main/notebooks/Teste%20Unit%C3%A1rio%20-%20Amostras.ipynb"
   ]
  },
  {
   "cell_type": "code",
   "execution_count": 1,
   "metadata": {},
   "outputs": [],
   "source": [
    "import gc\n",
    "import os\n",
    "import pyunpack\n",
    "import rarfile\n",
    "import shutil\n",
    "import zipfile\n",
    "import numpy as np\n",
    "import pandas as pd\n",
    "import patoolib\n",
    "\n",
    "from pathlib import Path\n",
    "from tqdm import tqdm"
   ]
  },
  {
   "cell_type": "code",
   "execution_count": 2,
   "metadata": {},
   "outputs": [
    {
     "name": "stdout",
     "output_type": "stream",
     "text": [
      "c:\\Users\\Thiago\\Desktop\\Pipeline ETL\\src\\dados\n"
     ]
    }
   ],
   "source": [
    "try:\n",
    "    PASTA_NOTEBOOK / \"\"\n",
    "except:\n",
    "    PASTA_NOTEBOOK = Path(os.getcwd())\n",
    "\n",
    "PASTA_PROJETO = PASTA_NOTEBOOK.parent\n",
    "PASTA_DADOS = PASTA_PROJETO / \"dados\"\n",
    "PASTA_EXTERNO = PASTA_DADOS / \"externo\"\n",
    "PASTA_TESTE = PASTA_PROJETO / \"testes\"\n",
    "PASTA_TESTE_CODIGO = PASTA_TESTE / \"codigos\"\n",
    "\n",
    "# PASTA_TESTE_CODIGO.mkdir(exist_ok=True)\n",
    "print(PASTA_DADOS)\n",
    "os.chdir(PASTA_PROJETO)"
   ]
  },
  {
   "cell_type": "code",
   "execution_count": null,
   "metadata": {},
   "outputs": [],
   "source": [
    "# inicializa os dados de entrada como um dicionário vazio\n",
    "dados = dict()\n",
    "\n",
    "# para cada arquivo do censo demográfico\n",
    "for censo in tqdm(os.listdir(PASTA_DADOS / \"zip\")):\n",
    "\n",
    "    # abre o arquivo zip com o conteúdo do censo\n",
    "    with zipfile.ZipFile(PASTA_DADOS / f\"zip/{censo}\") as z:\n",
    "\n",
    "        # lista os conteúdos dos arquivos zip que contém o nome tabela\n",
    "        arqs = [f for f in z.namelist() if f\"escolas.\" in f.lower()]\n",
    "\n",
    "        # # se houver algum arquivo deste tipo dentro do zip\n",
    "        if len(arqs) == 1:\n",
    "            arq = arqs[0]\n",
    "\n",
    "            # este arquivo for um CSV\n",
    "            if \".csv\" in arq.lower():\n",
    "                # le os conteúdos do arquivo por meio do buffer do zip\n",
    "                dados[censo] = pd.read_csv(\n",
    "                    z.open(arq), encoding=\"latin-1\", sep=\"|\"\n",
    "                )\n",
    "\n",
    "\n",
    "            # caso seja outro arquivo zip\n",
    "            elif \".zip\" in arq.lower():\n",
    "                # cria um novo zipfile e le o arquivo deste novo zip\n",
    "                with zipfile.ZipFile(z.open(arq)) as z2:\n",
    "                    arq = z2.namelist()[0]\n",
    "                    dados[censo] = pd.read_csv(\n",
    "                        z2.open(arq), encoding=\"latin-1\", sep=\"|\"\n",
    "                    )\n",
    "\n",
    "\n",
    "            # caso seja um arquivo winrar\n",
    "            elif \".rar\" in arq.lower():\n",
    "                # Nome do arquivo .rar\n",
    "                name_rar = censo.split('.')[-2]\n",
    "\n",
    "                # Descompactando o arquivo\n",
    "                arquivo_rar = PASTA_DADOS / f\"zip/{censo}\"\n",
    "                diretorio_destino = PASTA_DADOS / f\"zip/csv\"\n",
    "                patoolib.extract_archive(arquivo_rar, outdir=diretorio_destino)\n",
    "\n",
    "                arquivo_rar = PASTA_DADOS / f\"zip/csv/{name_rar}/DADOS/ESCOLAS.rar\"\n",
    "                diretorio_destino = PASTA_DADOS / f\"zip/csv/desc/{name_rar}\"\n",
    "                patoolib.extract_archive(arquivo_rar, outdir=diretorio_destino)\n",
    "\n",
    "                # Lista e filtra os arquivos CSV extraídos\n",
    "                csv = [\n",
    "                    f\n",
    "                    for f in os.listdir(PASTA_DADOS / f\"zip/csv/desc/{name_rar}\")\n",
    "                    if f\"escolas.\" in f.lower()\n",
    "                ][0]\n",
    "                dados[censo] = pd.read_csv(\n",
    "                    PASTA_DADOS / f\"zip/csv/desc/{name_rar}\" / f\"{csv}\", encoding=\"latin-1\", sep=\"|\"\n",
    "                )\n",
    "# Apaga a pasta CSV criada para descompactar os arquivos\n",
    "shutil.rmtree(PASTA_DADOS / f\"zip/csv\")"
   ]
  },
  {
   "cell_type": "code",
   "execution_count": 15,
   "metadata": {},
   "outputs": [],
   "source": [
    "# renomeia as colunas\n",
    "dados[censo].rename(\n",
    "    columns={\n",
    "        \"PK_COD_ENTIDADE\": \"CO_ENTIDADE\",\n",
    "        \"PK_COD_TURMA\": \"ID_TURMA\",\n",
    "        \"FK_COD_DOCENTE\": \"ID_DOCENTE\",\n",
    "        \"CO_PESSOA_FISICA\": \"ID_DOCENTE\",\n",
    "        \"PK_COD_MATRICULA\": \"ID_MATRICULA\",\n",
    "        \"FK_COD_ALUNO\": \"ID_ALUNO\",\n",
    "        \"ANO_CENSO\": \"NU_ANO_CENSO\",\n",
    "        \"FK_COD_MUNICIPIO\": \"CO_MUNICIPIO\"\n",
    "    }, \n",
    "    inplace=True\n",
    ")\n",
    "                \n",
    "# aplica os filtros sobre o arquivo\n",
    "# if filtros is not None:\n",
    "#     for c, l in filtros.items():\n",
    "#         dados[censo] = dados[censo].loc[lambda f: f[c].isin(l)]\n",
    "\n",
    "# seleciona as colunas\n",
    "# dados[censo] = dados[censo].reindex(columns=cols).drop_duplicates()\n"
   ]
  },
  {
   "cell_type": "code",
   "execution_count": null,
   "metadata": {},
   "outputs": [],
   "source": []
  },
  {
   "cell_type": "code",
   "execution_count": 16,
   "metadata": {},
   "outputs": [
    {
     "data": {
      "text/html": [
       "<div>\n",
       "<style scoped>\n",
       "    .dataframe tbody tr th:only-of-type {\n",
       "        vertical-align: middle;\n",
       "    }\n",
       "\n",
       "    .dataframe tbody tr th {\n",
       "        vertical-align: top;\n",
       "    }\n",
       "\n",
       "    .dataframe thead th {\n",
       "        text-align: right;\n",
       "    }\n",
       "</style>\n",
       "<table border=\"1\" class=\"dataframe\">\n",
       "  <thead>\n",
       "    <tr style=\"text-align: right;\">\n",
       "      <th></th>\n",
       "      <th>ANO_CENSO</th>\n",
       "      <th>PK_COD_ENTIDADE</th>\n",
       "      <th>NO_ENTIDADE</th>\n",
       "      <th>COD_ORGAO_REGIONAL_INEP</th>\n",
       "      <th>DESC_SITUACAO_FUNCIONAMENTO</th>\n",
       "      <th>FK_COD_ESTADO</th>\n",
       "      <th>SIGLA</th>\n",
       "      <th>FK_COD_MUNICIPIO</th>\n",
       "      <th>ID_DEPENDENCIA_ADM</th>\n",
       "      <th>ID_LOCALIZACAO</th>\n",
       "      <th>...</th>\n",
       "      <th>IN_ORGAO_ASS_PAIS_MESTRES</th>\n",
       "      <th>IN_ORGAO_CONSELHO_ESCOLAR</th>\n",
       "      <th>IN_ORGAO_GREMIO_ESTUDANTIL</th>\n",
       "      <th>IN_ORGAO_OUTROS</th>\n",
       "      <th>IN_ORGAO_NENHUM</th>\n",
       "      <th>TP_PROPOSTA_PEDAGOGICA</th>\n",
       "      <th>IN_EQUIP_NENHUM</th>\n",
       "      <th>QT_PROF_GESTAO</th>\n",
       "      <th>QT_PROF_ASSIST_SOCIAL</th>\n",
       "      <th>IN_MATERIAL_PED_NENHUM</th>\n",
       "    </tr>\n",
       "  </thead>\n",
       "  <tbody>\n",
       "    <tr>\n",
       "      <th>0</th>\n",
       "      <td>2007.0</td>\n",
       "      <td>11017856.0</td>\n",
       "      <td>CEEJA MARECHAL RONDON</td>\n",
       "      <td>NaN</td>\n",
       "      <td>EM ATIVIDADE</td>\n",
       "      <td>11.0</td>\n",
       "      <td>RO</td>\n",
       "      <td>1100254.0</td>\n",
       "      <td>2.0</td>\n",
       "      <td>1.0</td>\n",
       "      <td>...</td>\n",
       "      <td>NaN</td>\n",
       "      <td>NaN</td>\n",
       "      <td>NaN</td>\n",
       "      <td>NaN</td>\n",
       "      <td>NaN</td>\n",
       "      <td>NaN</td>\n",
       "      <td>NaN</td>\n",
       "      <td>NaN</td>\n",
       "      <td>NaN</td>\n",
       "      <td>NaN</td>\n",
       "    </tr>\n",
       "    <tr>\n",
       "      <th>1</th>\n",
       "      <td>2007.0</td>\n",
       "      <td>11002719.0</td>\n",
       "      <td>EMEIEF PEQUENO MESTRE</td>\n",
       "      <td>NaN</td>\n",
       "      <td>EM ATIVIDADE</td>\n",
       "      <td>11.0</td>\n",
       "      <td>RO</td>\n",
       "      <td>1100205.0</td>\n",
       "      <td>3.0</td>\n",
       "      <td>1.0</td>\n",
       "      <td>...</td>\n",
       "      <td>NaN</td>\n",
       "      <td>NaN</td>\n",
       "      <td>NaN</td>\n",
       "      <td>NaN</td>\n",
       "      <td>NaN</td>\n",
       "      <td>NaN</td>\n",
       "      <td>NaN</td>\n",
       "      <td>NaN</td>\n",
       "      <td>NaN</td>\n",
       "      <td>NaN</td>\n",
       "    </tr>\n",
       "  </tbody>\n",
       "</table>\n",
       "<p>2 rows × 486 columns</p>\n",
       "</div>"
      ],
      "text/plain": [
       "   ANO_CENSO  PK_COD_ENTIDADE            NO_ENTIDADE COD_ORGAO_REGIONAL_INEP  \\\n",
       "0     2007.0       11017856.0  CEEJA MARECHAL RONDON                     NaN   \n",
       "1     2007.0       11002719.0  EMEIEF PEQUENO MESTRE                     NaN   \n",
       "\n",
       "  DESC_SITUACAO_FUNCIONAMENTO  FK_COD_ESTADO SIGLA  FK_COD_MUNICIPIO  \\\n",
       "0                EM ATIVIDADE           11.0    RO         1100254.0   \n",
       "1                EM ATIVIDADE           11.0    RO         1100205.0   \n",
       "\n",
       "   ID_DEPENDENCIA_ADM  ID_LOCALIZACAO  ...  IN_ORGAO_ASS_PAIS_MESTRES  \\\n",
       "0                 2.0             1.0  ...                        NaN   \n",
       "1                 3.0             1.0  ...                        NaN   \n",
       "\n",
       "   IN_ORGAO_CONSELHO_ESCOLAR  IN_ORGAO_GREMIO_ESTUDANTIL  IN_ORGAO_OUTROS  \\\n",
       "0                        NaN                         NaN              NaN   \n",
       "1                        NaN                         NaN              NaN   \n",
       "\n",
       "   IN_ORGAO_NENHUM  TP_PROPOSTA_PEDAGOGICA  IN_EQUIP_NENHUM  QT_PROF_GESTAO  \\\n",
       "0              NaN                     NaN              NaN             NaN   \n",
       "1              NaN                     NaN              NaN             NaN   \n",
       "\n",
       "   QT_PROF_ASSIST_SOCIAL  IN_MATERIAL_PED_NENHUM  \n",
       "0                    NaN                     NaN  \n",
       "1                    NaN                     NaN  \n",
       "\n",
       "[2 rows x 486 columns]"
      ]
     },
     "execution_count": 16,
     "metadata": {},
     "output_type": "execute_result"
    }
   ],
   "source": [
    "df_dados.head(2)"
   ]
  },
  {
   "cell_type": "code",
   "execution_count": 4,
   "metadata": {},
   "outputs": [],
   "source": [
    "df_dados = pd.concat(dados.values())"
   ]
  },
  {
   "cell_type": "code",
   "execution_count": 10,
   "metadata": {},
   "outputs": [
    {
     "data": {
      "text/plain": [
       "(30556, 486)"
      ]
     },
     "execution_count": 10,
     "metadata": {},
     "output_type": "execute_result"
    }
   ],
   "source": [
    "df_dados.shape"
   ]
  },
  {
   "cell_type": "code",
   "execution_count": 11,
   "metadata": {},
   "outputs": [
    {
     "data": {
      "text/plain": [
       "ANO_CENSO                      13241\n",
       "PK_COD_ENTIDADE                13241\n",
       "NO_ENTIDADE                        0\n",
       "COD_ORGAO_REGIONAL_INEP        14732\n",
       "DESC_SITUACAO_FUNCIONAMENTO    13241\n",
       "                               ...  \n",
       "TP_PROPOSTA_PEDAGOGICA         27494\n",
       "IN_EQUIP_NENHUM                29028\n",
       "QT_PROF_GESTAO                 29028\n",
       "QT_PROF_ASSIST_SOCIAL          29028\n",
       "IN_MATERIAL_PED_NENHUM         29028\n",
       "Length: 486, dtype: int64"
      ]
     },
     "execution_count": 11,
     "metadata": {},
     "output_type": "execute_result"
    }
   ],
   "source": [
    "df_dados.isna().sum()"
   ]
  }
 ],
 "metadata": {
  "kernelspec": {
   "display_name": "Python 3",
   "language": "python",
   "name": "python3"
  },
  "language_info": {
   "codemirror_mode": {
    "name": "ipython",
    "version": 3
   },
   "file_extension": ".py",
   "mimetype": "text/x-python",
   "name": "python",
   "nbconvert_exporter": "python",
   "pygments_lexer": "ipython3",
   "version": "3.12.2"
  }
 },
 "nbformat": 4,
 "nbformat_minor": 2
}
