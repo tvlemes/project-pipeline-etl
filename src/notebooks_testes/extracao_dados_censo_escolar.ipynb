{
 "cells": [
  {
   "cell_type": "markdown",
   "metadata": {},
   "source": [
    "# Exploração dos Dados\n",
    "\n",
    "Link: https://github.com/Ignorancia-Zero/curso-ciencia-dados-treino/blob/main/notebooks/Teste%20Unit%C3%A1rio%20-%20Amostras.ipynb"
   ]
  },
  {
   "cell_type": "code",
   "execution_count": 40,
   "metadata": {},
   "outputs": [],
   "source": [
    "import gc\n",
    "import os\n",
    "import pyunpack\n",
    "import rarfile\n",
    "import shutil\n",
    "import zipfile\n",
    "import numpy as np\n",
    "import pandas as pd\n",
    "import patoolib\n",
    "\n",
    "from pathlib import Path\n",
    "from tqdm import tqdm"
   ]
  },
  {
   "cell_type": "code",
   "execution_count": 42,
   "metadata": {},
   "outputs": [
    {
     "name": "stdout",
     "output_type": "stream",
     "text": [
      "c:\\Users\\Thiago\\Desktop\\Pipeline ETL\\src\\dados\n"
     ]
    }
   ],
   "source": [
    "try:\n",
    "    PASTA_NOTEBOOK / \"\"\n",
    "except:\n",
    "    PASTA_NOTEBOOK = Path(os.getcwd())\n",
    "\n",
    "PASTA_PROJETO = PASTA_NOTEBOOK.parent\n",
    "PASTA_DADOS = PASTA_PROJETO / \"dados\"\n",
    "PASTA_EXTERNO = PASTA_DADOS / \"externo\"\n",
    "PASTA_TESTE = PASTA_PROJETO / \"testes\"\n",
    "PASTA_TESTE_CODIGO = PASTA_TESTE / \"codigos\"\n",
    "\n",
    "# PASTA_TESTE_CODIGO.mkdir(exist_ok=True)\n",
    "print(PASTA_DADOS)\n",
    "os.chdir(PASTA_PROJETO)"
   ]
  },
  {
   "cell_type": "code",
   "execution_count": null,
   "metadata": {},
   "outputs": [],
   "source": [
    "# inicializa os dados de entrada como um dicionário vazio\n",
    "dados = dict()\n",
    "\n",
    "# para cada arquivo do censo demográfico\n",
    "for censo in tqdm(os.listdir(PASTA_DADOS / \"zip\")):\n",
    "    # abre o arquivo zip com o conteúdo do censo\n",
    "    with zipfile.ZipFile(PASTA_DADOS / f\"zip/{censo}\") as z:\n",
    "        # lista os conteúdos dos arquivos zip que contém o nome tabela\n",
    "        arqs = [f for f in z.namelist() if f\"escolas.\" in f.lower()]\n",
    "\n",
    "        # # se houver algum arquivo deste tipo dentro do zip\n",
    "        if len(arqs) == 1:\n",
    "            arq = arqs[0]\n",
    "\n",
    "            # este arquivo for um CSV\n",
    "            if \".csv\" in arq.lower():\n",
    "                # le os conteúdos do arquivo por meio do buffer do zip\n",
    "                dados[censo] = pd.read_csv(\n",
    "                    z.open(arq), encoding=\"latin-1\", sep=\"|\"\n",
    "                )\n",
    "\n",
    "\n",
    "            # caso seja outro arquivo zip\n",
    "            elif \".zip\" in arq.lower():\n",
    "                # cria um novo zipfile e le o arquivo deste novo zip\n",
    "                with zipfile.ZipFile(z.open(arq)) as z2:\n",
    "                    arq = z2.namelist()[0]\n",
    "                    dados[censo] = pd.read_csv(\n",
    "                        z2.open(arq), encoding=\"latin-1\", sep=\"|\"\n",
    "                    )\n",
    "\n",
    "\n",
    "            # caso seja um arquivo winrar\n",
    "            elif \".rar\" in arq.lower():\n",
    "                # Nome do arquivo .rar\n",
    "                name_rar = censo.split('.')[-2]\n",
    "\n",
    "                # Descompactando o arquivo\n",
    "                arquivo_rar = PASTA_DADOS / f\"zip/{censo}\"\n",
    "                diretorio_destino = PASTA_DADOS / f\"zip/csv\"\n",
    "                patoolib.extract_archive(arquivo_rar, outdir=diretorio_destino)\n",
    "\n",
    "                arquivo_rar = PASTA_DADOS / f\"zip/csv/{name_rar}/DADOS/ESCOLAS.rar\"\n",
    "                diretorio_destino = PASTA_DADOS / f\"zip/csv/desc/{name_rar}\"\n",
    "                patoolib.extract_archive(arquivo_rar, outdir=diretorio_destino)\n",
    "\n",
    "                # Lista e filtra os arquivos CSV extraídos\n",
    "                csv = [\n",
    "                    f\n",
    "                    for f in os.listdir(PASTA_DADOS / f\"zip/csv/desc/{name_rar}\")\n",
    "                    if f\"escolas.\" in f.lower()\n",
    "                ][0]\n",
    "                dados[censo] = pd.read_csv(\n",
    "                    PASTA_DADOS / f\"zip/csv/desc/{name_rar}\" / f\"{csv}\", encoding=\"latin-1\", sep=\"|\"\n",
    "                )\n",
    "                \n",
    "# shutil.rmtree(PASTA_DADOS / f\"zip/csv/desc\")\n",
    "shutil.rmtree(PASTA_DADOS / f\"zip/csv\")\n",
    "# os.remove(PASTA_DADOS / f\"zip/csv\")\n",
    "            # renomeia as colunas\n",
    "            # dados[censo].rename(\n",
    "            #     columns={\n",
    "            #         \"PK_COD_ENTIDADE\": \"CO_ENTIDADE\",\n",
    "            #         \"PK_COD_TURMA\": \"ID_TURMA\",\n",
    "            #         \"FK_COD_DOCENTE\": \"ID_DOCENTE\",\n",
    "            #         \"CO_PESSOA_FISICA\": \"ID_DOCENTE\",\n",
    "            #         \"PK_COD_MATRICULA\": \"ID_MATRICULA\",\n",
    "            #         \"FK_COD_ALUNO\": \"ID_ALUNO\",\n",
    "            #         \"ANO_CENSO\": \"NU_ANO_CENSO\",\n",
    "            #         \"FK_COD_MUNICIPIO\": \"CO_MUNICIPIO\"\n",
    "            #     }, \n",
    "            #     inplace=True\n",
    "            # )\n",
    "                            \n",
    "            # aplica os filtros sobre o arquivo\n",
    "            # if filtros is not None:\n",
    "            #     for c, l in filtros.items():\n",
    "            #         dados[censo] = dados[censo].loc[lambda f: f[c].isin(l)]\n",
    "            \n",
    "            # # seleciona as colunas\n",
    "            # dados[censo] = dados[censo].reindex(columns=cols).drop_duplicates()\n",
    "\n",
    "    # return dados"
   ]
  }
 ],
 "metadata": {
  "kernelspec": {
   "display_name": "Python 3",
   "language": "python",
   "name": "python3"
  },
  "language_info": {
   "codemirror_mode": {
    "name": "ipython",
    "version": 3
   },
   "file_extension": ".py",
   "mimetype": "text/x-python",
   "name": "python",
   "nbconvert_exporter": "python",
   "pygments_lexer": "ipython3",
   "version": "3.12.2"
  }
 },
 "nbformat": 4,
 "nbformat_minor": 2
}
